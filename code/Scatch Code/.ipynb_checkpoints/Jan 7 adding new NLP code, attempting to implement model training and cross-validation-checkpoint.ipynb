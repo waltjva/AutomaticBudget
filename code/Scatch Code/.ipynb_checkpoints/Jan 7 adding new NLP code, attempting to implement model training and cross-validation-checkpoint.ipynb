{
 "cells": [
  {
   "cell_type": "code",
   "execution_count": null,
   "id": "ff7f397a",
   "metadata": {},
   "outputs": [],
   "source": [
    "# model isn't great, need to do some feature selection\n",
    "# would be great if I could parameterize the statement content, after cleaning up a bit\n",
    "# some formatting would be helpful as well\n",
    "\n",
    "import os\n",
    "import pandas as pd\n",
    "os.chdir('..')\n",
    "from auto_budget import bank_functions_NWFCU as nw\n",
    "\n",
    "# historic data back to March 2020 (COVID-19 pandemic) with categories\n",
    "data = pd.read_excel('mlb_df.xlsx')\n",
    "\n",
    "# onboarding new purchases from NW Federal Credit Union checking account\n",
    "filename = '../data/RawStatements/ExportedTransactions-8.csv'"
   ]
  },
  {
   "cell_type": "code",
   "execution_count": null,
   "id": "1a814094",
   "metadata": {},
   "outputs": [],
   "source": [
    "new_data = nw.clean_bank_statement_file(filename)\n",
    "new_data.Cat_Self_Pred = nw.categorize(new_data)\n",
    "coded_data = nw.encode_data(new_data)\n",
    "coded_data.Category_Pred = nw.decision_tree_new_statements(data, coded_data)\n",
    "ref = nw.ref_dictionaries(data)\n",
    "coded_data.Cat_Pred_Words = coded_data.Category_Pred.apply(lambda x: ref[1][x])\n",
    "coded_data.Cat_Self_Pred = nw.self_categorization(coded_data, ref)\n",
    "coded_data"
   ]
  }
 ],
 "metadata": {
  "kernelspec": {
   "display_name": "Python 3 (ipykernel)",
   "language": "python",
   "name": "python3"
  },
  "language_info": {
   "codemirror_mode": {
    "name": "ipython",
    "version": 3
   },
   "file_extension": ".py",
   "mimetype": "text/x-python",
   "name": "python",
   "nbconvert_exporter": "python",
   "pygments_lexer": "ipython3",
   "version": "3.8.12"
  }
 },
 "nbformat": 4,
 "nbformat_minor": 5
}

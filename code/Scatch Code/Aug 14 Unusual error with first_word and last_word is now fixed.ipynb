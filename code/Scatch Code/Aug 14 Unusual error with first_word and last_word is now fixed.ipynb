{
 "cells": [
  {
   "cell_type": "code",
   "execution_count": 1,
   "id": "4670d949",
   "metadata": {},
   "outputs": [],
   "source": [
    "import bank_functions as bf\n",
    "import bank_functions_NWFCU as nw\n",
    "import pandas as pd"
   ]
  },
  {
   "cell_type": "code",
   "execution_count": 2,
   "id": "b8bebeca",
   "metadata": {},
   "outputs": [
    {
     "name": "stdout",
     "output_type": "stream",
     "text": [
      "Content           VENMO/PAYMENTWALTER COLEMAN Default\n",
      "Amount                                          -25.0\n",
      "Cat_Pred_Words                              Groceries\n",
      "Name: 0, dtype: object\n",
      "y\n",
      "Content           VENMO/PAYMENTWALTER COLEMAN Default\n",
      "Amount                                          -27.0\n",
      "Cat_Pred_Words                              Utilities\n",
      "Name: 3, dtype: object\n",
      "y\n",
      "Content           VENMO/PAYMENTWALTER COLEMAN Default\n",
      "Amount                                          -15.0\n",
      "Cat_Pred_Words                                   Misc\n",
      "Name: 8, dtype: object\n",
      "y\n",
      "Content           VENMO/PAYMENTWALTER COLEMAN Default\n",
      "Amount                                         -99.29\n",
      "Cat_Pred_Words                                   Misc\n",
      "Name: 9, dtype: object\n",
      "y\n",
      "Content           VENMO/PAYMENTWALTER COLEMAN Default\n",
      "Amount                                          -15.0\n",
      "Cat_Pred_Words                                   Misc\n",
      "Name: 11, dtype: object\n",
      "y\n",
      "Content           VENMO/PAYMENTWALTER COLEMAN Default\n",
      "Amount                                           -8.0\n",
      "Cat_Pred_Words                                   Misc\n",
      "Name: 13, dtype: object\n",
      "y\n",
      "Content           THE HOME DEPOT #4640 ALEXANDRIA VA062417\n",
      "Amount                                              -30.24\n",
      "Cat_Pred_Words                                   Groceries\n",
      "Name: 14, dtype: object\n",
      "y\n",
      "Content           APPLE.COM/US 800-676-2775 CA IN8800\n",
      "Amount                                         -72.66\n",
      "Cat_Pred_Words                                   Misc\n",
      "Name: 15, dtype: object\n",
      "y\n",
      "Content           LEETCODE.COM HTTPSLEETCODE CA KTDFAH\n",
      "Amount                                          -159.0\n",
      "Cat_Pred_Words                                    Misc\n",
      "Name: 16, dtype: object\n",
      "y\n",
      "Content           SQ *IDIDOS SOCIAL HOUSE ARLINGTON VA778273\n",
      "Amount                                                  -3.3\n",
      "Cat_Pred_Words                      Tolls/Uber/Metro/Parking\n",
      "Name: 18, dtype: object\n",
      "y\n",
      "Content           MIDAS. ARLINGTON VA 00\n",
      "Amount                             -56.0\n",
      "Cat_Pred_Words                      Misc\n",
      "Name: 20, dtype: object\n",
      "y\n",
      "Content           NNT CITY KABOB 0022 ARLINGTON VA068506\n",
      "Amount                                            -19.14\n",
      "Cat_Pred_Words                                 Groceries\n",
      "Name: 24, dtype: object\n",
      "y\n",
      "Content           TST* TORTAS Y TACOS LA ARLINGTON VA310961\n",
      "Amount                                               -13.15\n",
      "Cat_Pred_Words                                   Dining Out\n",
      "Name: 26, dtype: object\n",
      "y\n",
      "Content           VZWRLSS*BILL PAY VE 800-9220204 CA367118\n",
      "Amount                                              -79.12\n",
      "Cat_Pred_Words                                     Medical\n",
      "Name: 27, dtype: object\n",
      "y\n",
      "Content           THE UPS STORE 4832 703-8203300 VA757409\n",
      "Amount                                             -22.23\n",
      "Cat_Pred_Words                                 Dining Out\n",
      "Name: 35, dtype: object\n",
      "y\n",
      "Content           DOMINO'S 4341 703-734-7080 VA 547982\n",
      "Amount                                          -19.77\n",
      "Cat_Pred_Words                              Dining Out\n",
      "Name: 36, dtype: object\n",
      "y\n",
      "Content           DOMINO'S 4341 703-734-7080 VA 547982\n",
      "Amount                                          -34.51\n",
      "Cat_Pred_Words                              Dining Out\n",
      "Name: 37, dtype: object\n",
      "y\n",
      "Content           DOMINO'S 4341 703-734-7080 VA 547982\n",
      "Amount                                          -17.47\n",
      "Cat_Pred_Words                              Dining Out\n",
      "Name: 38, dtype: object\n",
      "y\n",
      "Content           INOVA - HEALTH CARE SER FALLS CHURCH VA771520\n",
      "Amount                                                    -50.0\n",
      "Cat_Pred_Words                                          Medical\n",
      "Name: 41, dtype: object\n",
      "y\n",
      "Content           TST* TORTAS Y TACOS LA ARLINGTON VA648915\n",
      "Amount                                               -14.21\n",
      "Cat_Pred_Words                                   Dining Out\n",
      "Name: 42, dtype: object\n",
      "y\n",
      "Content           PAYPAL *MANAGEMENTS 866-729-5327 VAIN8800\n",
      "Amount                                                -50.0\n",
      "Cat_Pred_Words                                      Medical\n",
      "Name: 43, dtype: object\n",
      "y\n",
      "Content           INTUIT *TURBOTAX CL.INTUIT.COM CAIN9000\n",
      "Amount                                             -175.0\n",
      "Cat_Pred_Words                                       Misc\n",
      "Name: 44, dtype: object\n",
      "y\n",
      "Content           TST* TORTAS Y TACOS LA ARLINGTON VA643382\n",
      "Amount                                               -17.11\n",
      "Cat_Pred_Words                                Entertainment\n",
      "Name: 46, dtype: object\n",
      "y\n",
      "Content           CKE*TOASTIQUE WASHINGTO WASHINGTON DC436559\n",
      "Amount                                                 -22.44\n",
      "Cat_Pred_Words                                     Dining Out\n",
      "Name: 48, dtype: object\n",
      "y\n",
      "Content           SQ *PHILZ COFFEE WASHINGTON DC778273\n",
      "Amount                                           -5.98\n",
      "Cat_Pred_Words                              Dining Out\n",
      "Name: 50, dtype: object\n",
      "y\n",
      "Content           INOVA - HEALTH CARE SER FALLS CHURCH VA771520\n",
      "Amount                                                    -50.0\n",
      "Cat_Pred_Words                                          Medical\n",
      "Name: 55, dtype: object\n",
      "y\n",
      "Content           TST* TORTAS Y TACOS LA ARLINGTON VA202710\n",
      "Amount                                               -27.08\n",
      "Cat_Pred_Words                                         Misc\n",
      "Name: 60, dtype: object\n",
      "y\n",
      "Content           CKE*THE WHITE SPOT ATLA ATLANTA GA552585\n",
      "Amount                                              -18.04\n",
      "Cat_Pred_Words                                        Misc\n",
      "Name: 64, dtype: object\n",
      "y\n",
      "Content           TST* GUAJIRO S CHARLOTTESVIL VA950102\n",
      "Amount                                           -18.98\n",
      "Cat_Pred_Words                                     Misc\n",
      "Name: 65, dtype: object\n",
      "y\n",
      "Content           MELS CAFE CHARLOTTESVIL VA 751944\n",
      "Amount                                       -12.68\n",
      "Cat_Pred_Words                                 Misc\n",
      "Name: 66, dtype: object\n",
      "y\n",
      "Content           FARM BELL KITCHEN CHARLOTTESVIL VAINB600\n",
      "Amount                                               -4.02\n",
      "Cat_Pred_Words                               Entertainment\n",
      "Name: 67, dtype: object\n",
      "y\n"
     ]
    }
   ],
   "source": [
    "# fully categorized and encoded\n",
    "prime_df = pd.read_excel('../data/fully_catized_encoded_3.xlsx')\n",
    "ref = bf.ref_dictionaries(prime_df) # tuple\n",
    "# print(\"ref_n2w: \", ref[0], \"ref_w2n: \", ref[1])\n",
    "# formats data from raw csv from Atlantic Union website\n",
    "may_df = bf.clean_bank_statement_file('../data/May21Checking.csv')\n",
    "may_df = bf.encode_data(may_df)\n",
    "may_df['Category_Pred'] = bf.decision_tree_new_statements(prime_df, may_df)\n",
    "may_df['Cat_Self_Pred'] = bf.self_categorization(may_df, ref)"
   ]
  },
  {
   "cell_type": "code",
   "execution_count": 3,
   "id": "f91b4d3c",
   "metadata": {
    "scrolled": true
   },
   "outputs": [
    {
     "name": "stdout",
     "output_type": "stream",
     "text": [
      "Content           JIFFY LUBE #1188 220 PANTOPS CTR        CHARLOTTESVILVAUS POS Signature Purchase\n",
      "Amount                                                                                      -10.52\n",
      "Cat_Pred_Words                                                                          Dining Out\n",
      "Name: 0, dtype: object\n",
      "y\n",
      "Content           Bodo's Bagels BODO'S BAGELS          CHARLOTTESVILVAUS\n",
      "Amount                                                              -4.9\n",
      "Cat_Pred_Words                                                Dining Out\n",
      "Name: 1, dtype: object\n"
     ]
    },
    {
     "ename": "KeyboardInterrupt",
     "evalue": "Interrupted by user",
     "output_type": "error",
     "traceback": [
      "\u001b[0;31m---------------------------------------------------------------------------\u001b[0m",
      "\u001b[0;31mKeyboardInterrupt\u001b[0m                         Traceback (most recent call last)",
      "\u001b[0;32m<ipython-input-3-fa38ab318703>\u001b[0m in \u001b[0;36m<module>\u001b[0;34m\u001b[0m\n\u001b[1;32m      2\u001b[0m \u001b[0mnwf_df\u001b[0m \u001b[0;34m=\u001b[0m \u001b[0mnw\u001b[0m\u001b[0;34m.\u001b[0m\u001b[0mencode_data\u001b[0m\u001b[0;34m(\u001b[0m\u001b[0mnwf_df\u001b[0m\u001b[0;34m)\u001b[0m\u001b[0;34m\u001b[0m\u001b[0;34m\u001b[0m\u001b[0m\n\u001b[1;32m      3\u001b[0m \u001b[0mnwf_df\u001b[0m\u001b[0;34m[\u001b[0m\u001b[0;34m'Category_Pred'\u001b[0m\u001b[0;34m]\u001b[0m \u001b[0;34m=\u001b[0m \u001b[0mnw\u001b[0m\u001b[0;34m.\u001b[0m\u001b[0mdecision_tree_new_statements\u001b[0m\u001b[0;34m(\u001b[0m\u001b[0mprime_df\u001b[0m\u001b[0;34m,\u001b[0m \u001b[0mnwf_df\u001b[0m\u001b[0;34m)\u001b[0m\u001b[0;34m\u001b[0m\u001b[0;34m\u001b[0m\u001b[0m\n\u001b[0;32m----> 4\u001b[0;31m \u001b[0mnwf_df\u001b[0m\u001b[0;34m[\u001b[0m\u001b[0;34m'Cat_Self_Pred'\u001b[0m\u001b[0;34m]\u001b[0m \u001b[0;34m=\u001b[0m \u001b[0mnw\u001b[0m\u001b[0;34m.\u001b[0m\u001b[0mself_categorization\u001b[0m\u001b[0;34m(\u001b[0m\u001b[0mnwf_df\u001b[0m\u001b[0;34m,\u001b[0m \u001b[0mref\u001b[0m\u001b[0;34m)\u001b[0m\u001b[0;34m\u001b[0m\u001b[0;34m\u001b[0m\u001b[0m\n\u001b[0m",
      "\u001b[0;32m~/Documents/BankStatementCategorizer/BankParser/Code/bank_functions_NWFCU.py\u001b[0m in \u001b[0;36mself_categorization\u001b[0;34m(df, ref)\u001b[0m\n\u001b[1;32m    163\u001b[0m     \u001b[0;32mfor\u001b[0m \u001b[0midx\u001b[0m \u001b[0;32min\u001b[0m \u001b[0mdf\u001b[0m\u001b[0;34m.\u001b[0m\u001b[0mindex\u001b[0m\u001b[0;34m[\u001b[0m\u001b[0mdf\u001b[0m\u001b[0;34m[\u001b[0m\u001b[0;34m'Cat_Self_Pred'\u001b[0m\u001b[0;34m]\u001b[0m \u001b[0;34m==\u001b[0m \u001b[0;34m'Default'\u001b[0m\u001b[0;34m]\u001b[0m\u001b[0;34m:\u001b[0m\u001b[0;34m\u001b[0m\u001b[0;34m\u001b[0m\u001b[0m\n\u001b[1;32m    164\u001b[0m         \u001b[0mprint\u001b[0m\u001b[0;34m(\u001b[0m\u001b[0mdf\u001b[0m\u001b[0;34m.\u001b[0m\u001b[0mloc\u001b[0m\u001b[0;34m[\u001b[0m\u001b[0midx\u001b[0m\u001b[0;34m,\u001b[0m \u001b[0;34m[\u001b[0m\u001b[0;34m'Content'\u001b[0m\u001b[0;34m,\u001b[0m \u001b[0;34m'Amount'\u001b[0m\u001b[0;34m,\u001b[0m \u001b[0;34m'Cat_Pred_Words'\u001b[0m\u001b[0;34m]\u001b[0m\u001b[0;34m]\u001b[0m\u001b[0;34m)\u001b[0m\u001b[0;34m\u001b[0m\u001b[0;34m\u001b[0m\u001b[0m\n\u001b[0;32m--> 165\u001b[0;31m         \u001b[0mans\u001b[0m \u001b[0;34m=\u001b[0m \u001b[0minput\u001b[0m\u001b[0;34m(\u001b[0m\u001b[0;34m)\u001b[0m\u001b[0;34m\u001b[0m\u001b[0;34m\u001b[0m\u001b[0m\n\u001b[0m\u001b[1;32m    166\u001b[0m         \u001b[0;32mif\u001b[0m \u001b[0mans\u001b[0m \u001b[0;34m==\u001b[0m \u001b[0;34m'y'\u001b[0m\u001b[0;34m:\u001b[0m\u001b[0;34m\u001b[0m\u001b[0;34m\u001b[0m\u001b[0m\n\u001b[1;32m    167\u001b[0m             \u001b[0mdf\u001b[0m\u001b[0;34m.\u001b[0m\u001b[0mloc\u001b[0m\u001b[0;34m[\u001b[0m\u001b[0midx\u001b[0m\u001b[0;34m,\u001b[0m \u001b[0;34m'Cat_Self_Pred'\u001b[0m\u001b[0;34m]\u001b[0m \u001b[0;34m=\u001b[0m \u001b[0mdf\u001b[0m\u001b[0;34m.\u001b[0m\u001b[0mloc\u001b[0m\u001b[0;34m[\u001b[0m\u001b[0midx\u001b[0m\u001b[0;34m,\u001b[0m \u001b[0;34m'Cat_Pred_Words'\u001b[0m\u001b[0;34m]\u001b[0m \u001b[0;31m# assign to decision tree's answer\u001b[0m\u001b[0;34m\u001b[0m\u001b[0;34m\u001b[0m\u001b[0m\n",
      "\u001b[0;32m~/opt/anaconda3/lib/python3.8/site-packages/ipykernel/kernelbase.py\u001b[0m in \u001b[0;36mraw_input\u001b[0;34m(self, prompt)\u001b[0m\n\u001b[1;32m    858\u001b[0m                 \u001b[0;34m\"raw_input was called, but this frontend does not support input requests.\"\u001b[0m\u001b[0;34m\u001b[0m\u001b[0;34m\u001b[0m\u001b[0m\n\u001b[1;32m    859\u001b[0m             )\n\u001b[0;32m--> 860\u001b[0;31m         return self._input_request(str(prompt),\n\u001b[0m\u001b[1;32m    861\u001b[0m             \u001b[0mself\u001b[0m\u001b[0;34m.\u001b[0m\u001b[0m_parent_ident\u001b[0m\u001b[0;34m,\u001b[0m\u001b[0;34m\u001b[0m\u001b[0;34m\u001b[0m\u001b[0m\n\u001b[1;32m    862\u001b[0m             \u001b[0mself\u001b[0m\u001b[0;34m.\u001b[0m\u001b[0m_parent_header\u001b[0m\u001b[0;34m,\u001b[0m\u001b[0;34m\u001b[0m\u001b[0;34m\u001b[0m\u001b[0m\n",
      "\u001b[0;32m~/opt/anaconda3/lib/python3.8/site-packages/ipykernel/kernelbase.py\u001b[0m in \u001b[0;36m_input_request\u001b[0;34m(self, prompt, ident, parent, password)\u001b[0m\n\u001b[1;32m    902\u001b[0m             \u001b[0;32mexcept\u001b[0m \u001b[0mKeyboardInterrupt\u001b[0m\u001b[0;34m:\u001b[0m\u001b[0;34m\u001b[0m\u001b[0;34m\u001b[0m\u001b[0m\n\u001b[1;32m    903\u001b[0m                 \u001b[0;31m# re-raise KeyboardInterrupt, to truncate traceback\u001b[0m\u001b[0;34m\u001b[0m\u001b[0;34m\u001b[0m\u001b[0;34m\u001b[0m\u001b[0m\n\u001b[0;32m--> 904\u001b[0;31m                 \u001b[0;32mraise\u001b[0m \u001b[0mKeyboardInterrupt\u001b[0m\u001b[0;34m(\u001b[0m\u001b[0;34m\"Interrupted by user\"\u001b[0m\u001b[0;34m)\u001b[0m \u001b[0;32mfrom\u001b[0m \u001b[0;32mNone\u001b[0m\u001b[0;34m\u001b[0m\u001b[0;34m\u001b[0m\u001b[0m\n\u001b[0m\u001b[1;32m    905\u001b[0m             \u001b[0;32mexcept\u001b[0m \u001b[0mException\u001b[0m \u001b[0;32mas\u001b[0m \u001b[0me\u001b[0m\u001b[0;34m:\u001b[0m\u001b[0;34m\u001b[0m\u001b[0;34m\u001b[0m\u001b[0m\n\u001b[1;32m    906\u001b[0m                 \u001b[0mself\u001b[0m\u001b[0;34m.\u001b[0m\u001b[0mlog\u001b[0m\u001b[0;34m.\u001b[0m\u001b[0mwarning\u001b[0m\u001b[0;34m(\u001b[0m\u001b[0;34m\"Invalid Message:\"\u001b[0m\u001b[0;34m,\u001b[0m \u001b[0mexc_info\u001b[0m\u001b[0;34m=\u001b[0m\u001b[0;32mTrue\u001b[0m\u001b[0;34m)\u001b[0m\u001b[0;34m\u001b[0m\u001b[0;34m\u001b[0m\u001b[0m\n",
      "\u001b[0;31mKeyboardInterrupt\u001b[0m: Interrupted by user"
     ]
    }
   ],
   "source": [
    "nwf_df = nw.clean_bank_statement_file('../data/NWFCU_all_transactions_until_August_13.csv')\n",
    "nwf_df = nw.encode_data(nwf_df)\n",
    "nwf_df['Category_Pred'] = nw.decision_tree_new_statements(prime_df, nwf_df)\n",
    "nwf_df['Cat_Self_Pred'] = nw.self_categorization(nwf_df, ref)"
   ]
  },
  {
   "cell_type": "code",
   "execution_count": null,
   "id": "a951de7a",
   "metadata": {},
   "outputs": [],
   "source": [
    "X = prime_df.drop(['Purchase Date','Purchase Time','Payment_Method','Verification Date', 'Content',\n",
    "             'Category','PT_total_seconds','Payment_Method_Cat', 'Category_Cat'], axis=1)\n",
    "             # # # DROP THE FW_CAT COLUMN ON THE MAIN TABLE ! ! ! you want the original cat_cat column\n",
    "new_X = nwf_df.drop(['Purchase Date','Purchase Time','Payment_Method','Verification Date',\n",
    "                     'Content', 'Category','PT_total_seconds','Payment_Method_Cat', 'Category_Pred',\n",
    "                     'Cat_Self_Pred', 'Cat_Pred_Words', 'Self_Pred_Nums'], axis=1)\n",
    "y = prime_df['Category_Cat'].copy() #Category Cat is numbers\n",
    "print(len(X.columns))\n",
    "print(len(new_X.columns))"
   ]
  },
  {
   "cell_type": "code",
   "execution_count": null,
   "id": "5f7ae5be",
   "metadata": {},
   "outputs": [],
   "source": [
    "X.columns"
   ]
  },
  {
   "cell_type": "code",
   "execution_count": null,
   "id": "ae8a9c34",
   "metadata": {},
   "outputs": [],
   "source": [
    "new_X.columns"
   ]
  },
  {
   "cell_type": "code",
   "execution_count": null,
   "id": "b879ac68",
   "metadata": {},
   "outputs": [],
   "source": [
    "prime_df.columns"
   ]
  },
  {
   "cell_type": "code",
   "execution_count": null,
   "id": "014eadf4",
   "metadata": {},
   "outputs": [],
   "source": [
    "nwf_df.columns"
   ]
  },
  {
   "cell_type": "code",
   "execution_count": null,
   "id": "77094fe9",
   "metadata": {},
   "outputs": [],
   "source": []
  }
 ],
 "metadata": {
  "kernelspec": {
   "display_name": "Python 3",
   "language": "python",
   "name": "python3"
  },
  "language_info": {
   "codemirror_mode": {
    "name": "ipython",
    "version": 3
   },
   "file_extension": ".py",
   "mimetype": "text/x-python",
   "name": "python",
   "nbconvert_exporter": "python",
   "pygments_lexer": "ipython3",
   "version": "3.8.8"
  }
 },
 "nbformat": 4,
 "nbformat_minor": 5
}

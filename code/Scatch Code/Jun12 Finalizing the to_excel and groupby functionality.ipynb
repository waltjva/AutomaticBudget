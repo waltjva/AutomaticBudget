{
 "cells": [
  {
   "cell_type": "code",
   "execution_count": 1,
   "id": "61459375",
   "metadata": {},
   "outputs": [
    {
     "name": "stdout",
     "output_type": "stream",
     "text": [
      "Content           VENMO/PAYMENTWALTER COLEMAN Default\n",
      "Amount                                          -25.0\n",
      "Cat_Pred_Words                                   Misc\n",
      "Name: 0, dtype: object\n",
      "y\n",
      "Content           VENMO/PAYMENTWALTER COLEMAN Default\n",
      "Amount                                          -27.0\n",
      "Cat_Pred_Words                                   Misc\n",
      "Name: 3, dtype: object\n",
      "y\n",
      "Content           VENMO/PAYMENTWALTER COLEMAN Default\n",
      "Amount                                          -15.0\n",
      "Cat_Pred_Words                             Dining Out\n",
      "Name: 8, dtype: object\n",
      "y\n",
      "Content           VENMO/PAYMENTWALTER COLEMAN Default\n",
      "Amount                                         -99.29\n",
      "Cat_Pred_Words                                   Misc\n",
      "Name: 9, dtype: object\n",
      "y\n",
      "Content           VENMO/PAYMENTWALTER COLEMAN Default\n",
      "Amount                                          -15.0\n",
      "Cat_Pred_Words                                   Misc\n",
      "Name: 11, dtype: object\n",
      "y\n",
      "Content           VENMO/PAYMENTWALTER COLEMAN Default\n",
      "Amount                                           -8.0\n",
      "Cat_Pred_Words                                   Misc\n",
      "Name: 13, dtype: object\n",
      "y\n",
      "Content           THE HOME DEPOT #4640 ALEXANDRIA VA062417\n",
      "Amount                                              -30.24\n",
      "Cat_Pred_Words                                   Groceries\n",
      "Name: 14, dtype: object\n",
      "y\n",
      "Content           APPLE.COM/US 800-676-2775 CA IN8800\n",
      "Amount                                         -72.66\n",
      "Cat_Pred_Words                                   Misc\n",
      "Name: 15, dtype: object\n",
      "y\n",
      "Content           LEETCODE.COM HTTPSLEETCODE CA KTDFAH\n",
      "Amount                                          -159.0\n",
      "Cat_Pred_Words                                    Misc\n",
      "Name: 16, dtype: object\n",
      "y\n",
      "Content           MIDAS. ARLINGTON VA 00\n",
      "Amount                             -56.0\n",
      "Cat_Pred_Words                      Misc\n",
      "Name: 20, dtype: object\n",
      "y\n",
      "Content           NNT CITY KABOB 0022 ARLINGTON VA068506\n",
      "Amount                                            -19.14\n",
      "Cat_Pred_Words                                Dining Out\n",
      "Name: 24, dtype: object\n",
      "y\n",
      "Content           TST* TORTAS Y TACOS LA ARLINGTON VA310961\n",
      "Amount                                               -13.15\n",
      "Cat_Pred_Words                                   Dining Out\n",
      "Name: 26, dtype: object\n",
      "y\n",
      "Content           VZWRLSS*BILL PAY VE 800-9220204 CA367118\n",
      "Amount                                              -79.12\n",
      "Cat_Pred_Words                                     Medical\n",
      "Name: 27, dtype: object\n",
      "y\n",
      "Content           THE UPS STORE 4832 703-8203300 VA757409\n",
      "Amount                                             -22.23\n",
      "Cat_Pred_Words                                 Dining Out\n",
      "Name: 35, dtype: object\n",
      "y\n",
      "Content           DOMINO'S 4341 703-734-7080 VA 547982\n",
      "Amount                                          -19.77\n",
      "Cat_Pred_Words                              Dining Out\n",
      "Name: 36, dtype: object\n",
      "y\n",
      "Content           DOMINO'S 4341 703-734-7080 VA 547982\n",
      "Amount                                          -34.51\n",
      "Cat_Pred_Words                                    Misc\n",
      "Name: 37, dtype: object\n",
      "y\n",
      "Content           DOMINO'S 4341 703-734-7080 VA 547982\n",
      "Amount                                          -17.47\n",
      "Cat_Pred_Words                              Dining Out\n",
      "Name: 38, dtype: object\n",
      "y\n",
      "Content           INOVA - HEALTH CARE SER FALLS CHURCH VA771520\n",
      "Amount                                                    -50.0\n",
      "Cat_Pred_Words                                          Medical\n",
      "Name: 41, dtype: object\n",
      "y\n",
      "Content           TST* TORTAS Y TACOS LA ARLINGTON VA648915\n",
      "Amount                                               -14.21\n",
      "Cat_Pred_Words                                   Dining Out\n",
      "Name: 42, dtype: object\n",
      "y\n",
      "Content           PAYPAL *MANAGEMENTS 866-729-5327 VAIN8800\n",
      "Amount                                                -50.0\n",
      "Cat_Pred_Words                                      Medical\n",
      "Name: 43, dtype: object\n",
      "y\n",
      "Content           INTUIT *TURBOTAX CL.INTUIT.COM CAIN9000\n",
      "Amount                                             -175.0\n",
      "Cat_Pred_Words                                       Misc\n",
      "Name: 44, dtype: object\n",
      "y\n",
      "Content           TST* TORTAS Y TACOS LA ARLINGTON VA643382\n",
      "Amount                                               -17.11\n",
      "Cat_Pred_Words                                Entertainment\n",
      "Name: 46, dtype: object\n",
      "y\n",
      "Content           CKE*TOASTIQUE WASHINGTO WASHINGTON DC436559\n",
      "Amount                                                 -22.44\n",
      "Cat_Pred_Words                                     Dining Out\n",
      "Name: 48, dtype: object\n",
      "y\n",
      "Content           INOVA - HEALTH CARE SER FALLS CHURCH VA771520\n",
      "Amount                                                    -50.0\n",
      "Cat_Pred_Words                                          Medical\n",
      "Name: 55, dtype: object\n",
      "y\n",
      "Content           TST* TORTAS Y TACOS LA ARLINGTON VA202710\n",
      "Amount                                               -27.08\n",
      "Cat_Pred_Words                                         Misc\n",
      "Name: 60, dtype: object\n",
      "y\n",
      "Content           CKE*THE WHITE SPOT ATLA ATLANTA GA552585\n",
      "Amount                                              -18.04\n",
      "Cat_Pred_Words                                        Misc\n",
      "Name: 64, dtype: object\n",
      "y\n",
      "Content           TST* GUAJIRO S CHARLOTTESVIL VA950102\n",
      "Amount                                           -18.98\n",
      "Cat_Pred_Words                                     Misc\n",
      "Name: 65, dtype: object\n",
      "y\n",
      "Content           MELS CAFE CHARLOTTESVIL VA 751944\n",
      "Amount                                       -12.68\n",
      "Cat_Pred_Words                                 Misc\n",
      "Name: 66, dtype: object\n",
      "y\n",
      "Content           FARM BELL KITCHEN CHARLOTTESVIL VAINB600\n",
      "Amount                                               -4.02\n",
      "Cat_Pred_Words                               Entertainment\n",
      "Name: 67, dtype: object\n",
      "y\n"
     ]
    }
   ],
   "source": [
    "# c'mon\n",
    "import bank_functions as bf\n",
    "import pandas as pd\n",
    "\n",
    "# fully categorized and encoded\n",
    "prime_df = pd.read_excel('fully_catized_encoded_2.xlsx')\n",
    "ref = bf.ref_dictionaries(prime_df) # tuple\n",
    "# print(\"ref_n2w: \", ref[0], \"ref_w2n: \", ref[1])\n",
    "# formats data from raw csv from Atlantic Union website\n",
    "may_df = bf.clean_bank_statement_file('May21Checking.csv')\n",
    "may_df = bf.encode_data(may_df)\n",
    "may_df['Category_Pred'] = bf.decision_tree_new_statements(prime_df, may_df)\n",
    "may_df['Cat_Self_Pred'] = bf.self_categorization(may_df, ref)\n",
    "bf.upload_to_excel_budget(may_df)\n",
    "# summary statistics\n",
    "# bf.upload_to_excel(may_df)\n",
    "# dashboard\n",
    "# morph into the primary table fully categorized and fully encoded"
   ]
  },
  {
   "cell_type": "code",
   "execution_count": 2,
   "id": "1907add8",
   "metadata": {},
   "outputs": [
    {
     "ename": "BadZipFile",
     "evalue": "File is not a zip file",
     "output_type": "error",
     "traceback": [
      "\u001b[0;31m---------------------------------------------------------------------------\u001b[0m",
      "\u001b[0;31mBadZipFile\u001b[0m                                Traceback (most recent call last)",
      "\u001b[0;32m<ipython-input-2-1ed58f1fd23c>\u001b[0m in \u001b[0;36m<module>\u001b[0;34m\u001b[0m\n\u001b[0;32m----> 1\u001b[0;31m \u001b[0mbf\u001b[0m\u001b[0;34m.\u001b[0m\u001b[0mupload_to_excel_budget\u001b[0m\u001b[0;34m(\u001b[0m\u001b[0mmay_df\u001b[0m\u001b[0;34m)\u001b[0m\u001b[0;34m\u001b[0m\u001b[0;34m\u001b[0m\u001b[0m\n\u001b[0m",
      "\u001b[0;32m~/Documents/BankStatementCategorizer/BankParser/bank_functions.py\u001b[0m in \u001b[0;36mupload_to_excel_budget\u001b[0;34m(df)\u001b[0m\n\u001b[1;32m    174\u001b[0m \u001b[0;34m\u001b[0m\u001b[0m\n\u001b[1;32m    175\u001b[0m     \u001b[0mfile_to_upload\u001b[0m \u001b[0;34m=\u001b[0m \u001b[0;34m'tests/Budget 2021.xlsx'\u001b[0m\u001b[0;34m\u001b[0m\u001b[0;34m\u001b[0m\u001b[0m\n\u001b[0;32m--> 176\u001b[0;31m     \u001b[0mbook\u001b[0m \u001b[0;34m=\u001b[0m \u001b[0mload_workbook\u001b[0m\u001b[0;34m(\u001b[0m\u001b[0;34m'tests/Budget 2021.xlsx'\u001b[0m\u001b[0;34m)\u001b[0m\u001b[0;34m\u001b[0m\u001b[0;34m\u001b[0m\u001b[0m\n\u001b[0m\u001b[1;32m    177\u001b[0m     \u001b[0mwriter\u001b[0m \u001b[0;34m=\u001b[0m \u001b[0mpd\u001b[0m\u001b[0;34m.\u001b[0m\u001b[0mExcelWriter\u001b[0m\u001b[0;34m(\u001b[0m\u001b[0;34m'tests/Budget 2021.xlsx'\u001b[0m\u001b[0;34m,\u001b[0m \u001b[0mengine\u001b[0m\u001b[0;34m=\u001b[0m\u001b[0;34m'openpyxl'\u001b[0m\u001b[0;34m)\u001b[0m\u001b[0;34m\u001b[0m\u001b[0;34m\u001b[0m\u001b[0m\n\u001b[1;32m    178\u001b[0m     \u001b[0mwriter\u001b[0m\u001b[0;34m.\u001b[0m\u001b[0mbook\u001b[0m \u001b[0;34m=\u001b[0m \u001b[0mbook\u001b[0m\u001b[0;34m\u001b[0m\u001b[0;34m\u001b[0m\u001b[0m\n",
      "\u001b[0;32m~/opt/anaconda3/lib/python3.8/site-packages/openpyxl/reader/excel.py\u001b[0m in \u001b[0;36mload_workbook\u001b[0;34m(filename, read_only, keep_vba, data_only, keep_links)\u001b[0m\n\u001b[1;32m    313\u001b[0m \u001b[0;34m\u001b[0m\u001b[0m\n\u001b[1;32m    314\u001b[0m     \"\"\"\n\u001b[0;32m--> 315\u001b[0;31m     reader = ExcelReader(filename, read_only, keep_vba,\n\u001b[0m\u001b[1;32m    316\u001b[0m                         data_only, keep_links)\n\u001b[1;32m    317\u001b[0m     \u001b[0mreader\u001b[0m\u001b[0;34m.\u001b[0m\u001b[0mread\u001b[0m\u001b[0;34m(\u001b[0m\u001b[0;34m)\u001b[0m\u001b[0;34m\u001b[0m\u001b[0;34m\u001b[0m\u001b[0m\n",
      "\u001b[0;32m~/opt/anaconda3/lib/python3.8/site-packages/openpyxl/reader/excel.py\u001b[0m in \u001b[0;36m__init__\u001b[0;34m(self, fn, read_only, keep_vba, data_only, keep_links)\u001b[0m\n\u001b[1;32m    122\u001b[0m     def __init__(self,  fn, read_only=False, keep_vba=KEEP_VBA,\n\u001b[1;32m    123\u001b[0m                   data_only=False, keep_links=True):\n\u001b[0;32m--> 124\u001b[0;31m         \u001b[0mself\u001b[0m\u001b[0;34m.\u001b[0m\u001b[0marchive\u001b[0m \u001b[0;34m=\u001b[0m \u001b[0m_validate_archive\u001b[0m\u001b[0;34m(\u001b[0m\u001b[0mfn\u001b[0m\u001b[0;34m)\u001b[0m\u001b[0;34m\u001b[0m\u001b[0;34m\u001b[0m\u001b[0m\n\u001b[0m\u001b[1;32m    125\u001b[0m         \u001b[0mself\u001b[0m\u001b[0;34m.\u001b[0m\u001b[0mvalid_files\u001b[0m \u001b[0;34m=\u001b[0m \u001b[0mself\u001b[0m\u001b[0;34m.\u001b[0m\u001b[0marchive\u001b[0m\u001b[0;34m.\u001b[0m\u001b[0mnamelist\u001b[0m\u001b[0;34m(\u001b[0m\u001b[0;34m)\u001b[0m\u001b[0;34m\u001b[0m\u001b[0;34m\u001b[0m\u001b[0m\n\u001b[1;32m    126\u001b[0m         \u001b[0mself\u001b[0m\u001b[0;34m.\u001b[0m\u001b[0mread_only\u001b[0m \u001b[0;34m=\u001b[0m \u001b[0mread_only\u001b[0m\u001b[0;34m\u001b[0m\u001b[0;34m\u001b[0m\u001b[0m\n",
      "\u001b[0;32m~/opt/anaconda3/lib/python3.8/site-packages/openpyxl/reader/excel.py\u001b[0m in \u001b[0;36m_validate_archive\u001b[0;34m(filename)\u001b[0m\n\u001b[1;32m     94\u001b[0m             \u001b[0;32mraise\u001b[0m \u001b[0mInvalidFileException\u001b[0m\u001b[0;34m(\u001b[0m\u001b[0mmsg\u001b[0m\u001b[0;34m)\u001b[0m\u001b[0;34m\u001b[0m\u001b[0;34m\u001b[0m\u001b[0m\n\u001b[1;32m     95\u001b[0m \u001b[0;34m\u001b[0m\u001b[0m\n\u001b[0;32m---> 96\u001b[0;31m     \u001b[0marchive\u001b[0m \u001b[0;34m=\u001b[0m \u001b[0mZipFile\u001b[0m\u001b[0;34m(\u001b[0m\u001b[0mfilename\u001b[0m\u001b[0;34m,\u001b[0m \u001b[0;34m'r'\u001b[0m\u001b[0;34m)\u001b[0m\u001b[0;34m\u001b[0m\u001b[0;34m\u001b[0m\u001b[0m\n\u001b[0m\u001b[1;32m     97\u001b[0m     \u001b[0;32mreturn\u001b[0m \u001b[0marchive\u001b[0m\u001b[0;34m\u001b[0m\u001b[0;34m\u001b[0m\u001b[0m\n\u001b[1;32m     98\u001b[0m \u001b[0;34m\u001b[0m\u001b[0m\n",
      "\u001b[0;32m~/opt/anaconda3/lib/python3.8/zipfile.py\u001b[0m in \u001b[0;36m__init__\u001b[0;34m(self, file, mode, compression, allowZip64, compresslevel, strict_timestamps)\u001b[0m\n\u001b[1;32m   1267\u001b[0m         \u001b[0;32mtry\u001b[0m\u001b[0;34m:\u001b[0m\u001b[0;34m\u001b[0m\u001b[0;34m\u001b[0m\u001b[0m\n\u001b[1;32m   1268\u001b[0m             \u001b[0;32mif\u001b[0m \u001b[0mmode\u001b[0m \u001b[0;34m==\u001b[0m \u001b[0;34m'r'\u001b[0m\u001b[0;34m:\u001b[0m\u001b[0;34m\u001b[0m\u001b[0;34m\u001b[0m\u001b[0m\n\u001b[0;32m-> 1269\u001b[0;31m                 \u001b[0mself\u001b[0m\u001b[0;34m.\u001b[0m\u001b[0m_RealGetContents\u001b[0m\u001b[0;34m(\u001b[0m\u001b[0;34m)\u001b[0m\u001b[0;34m\u001b[0m\u001b[0;34m\u001b[0m\u001b[0m\n\u001b[0m\u001b[1;32m   1270\u001b[0m             \u001b[0;32melif\u001b[0m \u001b[0mmode\u001b[0m \u001b[0;32min\u001b[0m \u001b[0;34m(\u001b[0m\u001b[0;34m'w'\u001b[0m\u001b[0;34m,\u001b[0m \u001b[0;34m'x'\u001b[0m\u001b[0;34m)\u001b[0m\u001b[0;34m:\u001b[0m\u001b[0;34m\u001b[0m\u001b[0;34m\u001b[0m\u001b[0m\n\u001b[1;32m   1271\u001b[0m                 \u001b[0;31m# set the modified flag so central directory gets written\u001b[0m\u001b[0;34m\u001b[0m\u001b[0;34m\u001b[0m\u001b[0;34m\u001b[0m\u001b[0m\n",
      "\u001b[0;32m~/opt/anaconda3/lib/python3.8/zipfile.py\u001b[0m in \u001b[0;36m_RealGetContents\u001b[0;34m(self)\u001b[0m\n\u001b[1;32m   1334\u001b[0m             \u001b[0;32mraise\u001b[0m \u001b[0mBadZipFile\u001b[0m\u001b[0;34m(\u001b[0m\u001b[0;34m\"File is not a zip file\"\u001b[0m\u001b[0;34m)\u001b[0m\u001b[0;34m\u001b[0m\u001b[0;34m\u001b[0m\u001b[0m\n\u001b[1;32m   1335\u001b[0m         \u001b[0;32mif\u001b[0m \u001b[0;32mnot\u001b[0m \u001b[0mendrec\u001b[0m\u001b[0;34m:\u001b[0m\u001b[0;34m\u001b[0m\u001b[0;34m\u001b[0m\u001b[0m\n\u001b[0;32m-> 1336\u001b[0;31m             \u001b[0;32mraise\u001b[0m \u001b[0mBadZipFile\u001b[0m\u001b[0;34m(\u001b[0m\u001b[0;34m\"File is not a zip file\"\u001b[0m\u001b[0;34m)\u001b[0m\u001b[0;34m\u001b[0m\u001b[0;34m\u001b[0m\u001b[0m\n\u001b[0m\u001b[1;32m   1337\u001b[0m         \u001b[0;32mif\u001b[0m \u001b[0mself\u001b[0m\u001b[0;34m.\u001b[0m\u001b[0mdebug\u001b[0m \u001b[0;34m>\u001b[0m \u001b[0;36m1\u001b[0m\u001b[0;34m:\u001b[0m\u001b[0;34m\u001b[0m\u001b[0;34m\u001b[0m\u001b[0m\n\u001b[1;32m   1338\u001b[0m             \u001b[0mprint\u001b[0m\u001b[0;34m(\u001b[0m\u001b[0mendrec\u001b[0m\u001b[0;34m)\u001b[0m\u001b[0;34m\u001b[0m\u001b[0;34m\u001b[0m\u001b[0m\n",
      "\u001b[0;31mBadZipFile\u001b[0m: File is not a zip file"
     ]
    }
   ],
   "source": [
    "bf.upload_to_excel_budget(may_df)"
   ]
  },
  {
   "cell_type": "code",
   "execution_count": 2,
   "id": "64bed232",
   "metadata": {},
   "outputs": [],
   "source": [
    "new_summary = may_df.groupby('Cat_Self_Pred').agg({'Amount':'sum'})\n",
    "new_summary.loc[new_summary['Amount'] < 0, 'Portion_of'] = new_summary[new_summary['Amount'] < 0].apply(lambda x: 100 * x / float(x.sum()))['Amount']\n",
    "new_summary.loc[new_summary['Amount'] > 0, 'Portion_of'] = new_summary[new_summary['Amount'] > 0].apply(lambda x: 100 * x / float(x.sum()))['Amount']\n",
    "new_summary['Portion_of'] = new_summary['Portion_of'].apply(lambda x: \"{0:.2f}%\".format(x))"
   ]
  },
  {
   "cell_type": "code",
   "execution_count": 3,
   "id": "c31ad93c",
   "metadata": {},
   "outputs": [
    {
     "data": {
      "text/html": [
       "<div>\n",
       "<style scoped>\n",
       "    .dataframe tbody tr th:only-of-type {\n",
       "        vertical-align: middle;\n",
       "    }\n",
       "\n",
       "    .dataframe tbody tr th {\n",
       "        vertical-align: top;\n",
       "    }\n",
       "\n",
       "    .dataframe thead th {\n",
       "        text-align: right;\n",
       "    }\n",
       "</style>\n",
       "<table border=\"1\" class=\"dataframe\">\n",
       "  <thead>\n",
       "    <tr style=\"text-align: right;\">\n",
       "      <th></th>\n",
       "      <th>Amount</th>\n",
       "      <th>Portion_of</th>\n",
       "    </tr>\n",
       "    <tr>\n",
       "      <th>Cat_Self_Pred</th>\n",
       "      <th></th>\n",
       "      <th></th>\n",
       "    </tr>\n",
       "  </thead>\n",
       "  <tbody>\n",
       "    <tr>\n",
       "      <th>Dining Out</th>\n",
       "      <td>-492.97</td>\n",
       "      <td>20.42%</td>\n",
       "    </tr>\n",
       "    <tr>\n",
       "      <th>Entertainment</th>\n",
       "      <td>-4.99</td>\n",
       "      <td>0.21%</td>\n",
       "    </tr>\n",
       "    <tr>\n",
       "      <th>Extra</th>\n",
       "      <td>177.32</td>\n",
       "      <td>4.11%</td>\n",
       "    </tr>\n",
       "    <tr>\n",
       "      <th>Gas</th>\n",
       "      <td>-102.67</td>\n",
       "      <td>4.25%</td>\n",
       "    </tr>\n",
       "    <tr>\n",
       "      <th>Groceries</th>\n",
       "      <td>-336.09</td>\n",
       "      <td>13.92%</td>\n",
       "    </tr>\n",
       "    <tr>\n",
       "      <th>Gym</th>\n",
       "      <td>-21.95</td>\n",
       "      <td>0.91%</td>\n",
       "    </tr>\n",
       "    <tr>\n",
       "      <th>Medical</th>\n",
       "      <td>-100.00</td>\n",
       "      <td>4.14%</td>\n",
       "    </tr>\n",
       "    <tr>\n",
       "      <th>Misc</th>\n",
       "      <td>-637.17</td>\n",
       "      <td>26.39%</td>\n",
       "    </tr>\n",
       "    <tr>\n",
       "      <th>Pay Check</th>\n",
       "      <td>4037.43</td>\n",
       "      <td>93.54%</td>\n",
       "    </tr>\n",
       "    <tr>\n",
       "      <th>Phone</th>\n",
       "      <td>-79.12</td>\n",
       "      <td>3.28%</td>\n",
       "    </tr>\n",
       "    <tr>\n",
       "      <th>Tithe</th>\n",
       "      <td>-310.97</td>\n",
       "      <td>12.88%</td>\n",
       "    </tr>\n",
       "    <tr>\n",
       "      <th>Tolls/Uber/Metro/Parking</th>\n",
       "      <td>-5.95</td>\n",
       "      <td>0.25%</td>\n",
       "    </tr>\n",
       "    <tr>\n",
       "      <th>USAA Insurance</th>\n",
       "      <td>-166.05</td>\n",
       "      <td>6.88%</td>\n",
       "    </tr>\n",
       "    <tr>\n",
       "      <th>Utilities</th>\n",
       "      <td>-156.29</td>\n",
       "      <td>6.47%</td>\n",
       "    </tr>\n",
       "    <tr>\n",
       "      <th>Venmo Extra</th>\n",
       "      <td>101.70</td>\n",
       "      <td>2.36%</td>\n",
       "    </tr>\n",
       "  </tbody>\n",
       "</table>\n",
       "</div>"
      ],
      "text/plain": [
       "                           Amount Portion_of\n",
       "Cat_Self_Pred                               \n",
       "Dining Out                -492.97     20.42%\n",
       "Entertainment               -4.99      0.21%\n",
       "Extra                      177.32      4.11%\n",
       "Gas                       -102.67      4.25%\n",
       "Groceries                 -336.09     13.92%\n",
       "Gym                        -21.95      0.91%\n",
       "Medical                   -100.00      4.14%\n",
       "Misc                      -637.17     26.39%\n",
       "Pay Check                 4037.43     93.54%\n",
       "Phone                      -79.12      3.28%\n",
       "Tithe                     -310.97     12.88%\n",
       "Tolls/Uber/Metro/Parking    -5.95      0.25%\n",
       "USAA Insurance            -166.05      6.88%\n",
       "Utilities                 -156.29      6.47%\n",
       "Venmo Extra                101.70      2.36%"
      ]
     },
     "execution_count": 3,
     "metadata": {},
     "output_type": "execute_result"
    }
   ],
   "source": [
    "new_summary"
   ]
  },
  {
   "cell_type": "code",
   "execution_count": 11,
   "id": "507cef5b",
   "metadata": {},
   "outputs": [
    {
     "data": {
      "text/html": [
       "<div>\n",
       "<style scoped>\n",
       "    .dataframe tbody tr th:only-of-type {\n",
       "        vertical-align: middle;\n",
       "    }\n",
       "\n",
       "    .dataframe tbody tr th {\n",
       "        vertical-align: top;\n",
       "    }\n",
       "\n",
       "    .dataframe thead th {\n",
       "        text-align: right;\n",
       "    }\n",
       "</style>\n",
       "<table border=\"1\" class=\"dataframe\">\n",
       "  <thead>\n",
       "    <tr style=\"text-align: right;\">\n",
       "      <th></th>\n",
       "      <th>Purchase Date</th>\n",
       "      <th>Content</th>\n",
       "      <th>Amount</th>\n",
       "      <th>Category</th>\n",
       "      <th>Payment_Method</th>\n",
       "      <th>Purchase Time</th>\n",
       "      <th>Verification Date</th>\n",
       "      <th>First_Word</th>\n",
       "      <th>Category_Pred</th>\n",
       "      <th>Cat_Self_Pred</th>\n",
       "      <th>...</th>\n",
       "      <th>VD_year</th>\n",
       "      <th>sin_VD_month</th>\n",
       "      <th>cos_VD_month</th>\n",
       "      <th>sin_VD_day</th>\n",
       "      <th>cos_VD_day</th>\n",
       "      <th>Payment_Method_Cat</th>\n",
       "      <th>0</th>\n",
       "      <th>1</th>\n",
       "      <th>2</th>\n",
       "      <th>3</th>\n",
       "    </tr>\n",
       "  </thead>\n",
       "  <tbody>\n",
       "  </tbody>\n",
       "</table>\n",
       "<p>0 rows × 28 columns</p>\n",
       "</div>"
      ],
      "text/plain": [
       "Empty DataFrame\n",
       "Columns: [Purchase Date, Content, Amount, Category, Payment_Method, Purchase Time, Verification Date, First_Word, Category_Pred, Cat_Self_Pred, PD_year, sin_PD_month, cos_PD_month, sin_PD_day, cos_PD_day, PT_total_seconds, sin_PT_total_seconds, cos_PT_total_seconds, VD_year, sin_VD_month, cos_VD_month, sin_VD_day, cos_VD_day, Payment_Method_Cat, 0, 1, 2, 3]\n",
       "Index: []\n",
       "\n",
       "[0 rows x 28 columns]"
      ]
     },
     "execution_count": 11,
     "metadata": {},
     "output_type": "execute_result"
    }
   ],
   "source": [
    "may_df[may_df['Category'] == 'Rent']"
   ]
  },
  {
   "cell_type": "code",
   "execution_count": 2,
   "id": "b054bbda",
   "metadata": {},
   "outputs": [
    {
     "data": {
      "text/html": [
       "<div>\n",
       "<style scoped>\n",
       "    .dataframe tbody tr th:only-of-type {\n",
       "        vertical-align: middle;\n",
       "    }\n",
       "\n",
       "    .dataframe tbody tr th {\n",
       "        vertical-align: top;\n",
       "    }\n",
       "\n",
       "    .dataframe thead th {\n",
       "        text-align: right;\n",
       "    }\n",
       "</style>\n",
       "<table border=\"1\" class=\"dataframe\">\n",
       "  <thead>\n",
       "    <tr style=\"text-align: right;\">\n",
       "      <th></th>\n",
       "      <th>Amount</th>\n",
       "    </tr>\n",
       "    <tr>\n",
       "      <th>Cat_Self_Pred</th>\n",
       "      <th></th>\n",
       "    </tr>\n",
       "  </thead>\n",
       "  <tbody>\n",
       "    <tr>\n",
       "      <th>Dining Out</th>\n",
       "      <td>-492.97</td>\n",
       "    </tr>\n",
       "    <tr>\n",
       "      <th>Entertainment</th>\n",
       "      <td>-4.99</td>\n",
       "    </tr>\n",
       "    <tr>\n",
       "      <th>Extra</th>\n",
       "      <td>177.32</td>\n",
       "    </tr>\n",
       "    <tr>\n",
       "      <th>Gas</th>\n",
       "      <td>-102.67</td>\n",
       "    </tr>\n",
       "    <tr>\n",
       "      <th>Groceries</th>\n",
       "      <td>-336.09</td>\n",
       "    </tr>\n",
       "    <tr>\n",
       "      <th>Gym</th>\n",
       "      <td>-21.95</td>\n",
       "    </tr>\n",
       "    <tr>\n",
       "      <th>Medical</th>\n",
       "      <td>-100.00</td>\n",
       "    </tr>\n",
       "    <tr>\n",
       "      <th>Misc</th>\n",
       "      <td>-637.17</td>\n",
       "    </tr>\n",
       "    <tr>\n",
       "      <th>Pay Check</th>\n",
       "      <td>4037.43</td>\n",
       "    </tr>\n",
       "    <tr>\n",
       "      <th>Phone</th>\n",
       "      <td>-79.12</td>\n",
       "    </tr>\n",
       "    <tr>\n",
       "      <th>Tithe</th>\n",
       "      <td>-310.97</td>\n",
       "    </tr>\n",
       "    <tr>\n",
       "      <th>Tolls/Uber/Metro/Parking</th>\n",
       "      <td>-5.95</td>\n",
       "    </tr>\n",
       "    <tr>\n",
       "      <th>USAA Insurance</th>\n",
       "      <td>-166.05</td>\n",
       "    </tr>\n",
       "    <tr>\n",
       "      <th>Utilities</th>\n",
       "      <td>-156.29</td>\n",
       "    </tr>\n",
       "    <tr>\n",
       "      <th>Venmo Extra</th>\n",
       "      <td>101.70</td>\n",
       "    </tr>\n",
       "  </tbody>\n",
       "</table>\n",
       "</div>"
      ],
      "text/plain": [
       "                           Amount\n",
       "Cat_Self_Pred                    \n",
       "Dining Out                -492.97\n",
       "Entertainment               -4.99\n",
       "Extra                      177.32\n",
       "Gas                       -102.67\n",
       "Groceries                 -336.09\n",
       "Gym                        -21.95\n",
       "Medical                   -100.00\n",
       "Misc                      -637.17\n",
       "Pay Check                 4037.43\n",
       "Phone                      -79.12\n",
       "Tithe                     -310.97\n",
       "Tolls/Uber/Metro/Parking    -5.95\n",
       "USAA Insurance            -166.05\n",
       "Utilities                 -156.29\n",
       "Venmo Extra                101.70"
      ]
     },
     "execution_count": 2,
     "metadata": {},
     "output_type": "execute_result"
    }
   ],
   "source": [
    "may_df.groupby('Cat_Self_Pred').agg({'Amount':'sum'})"
   ]
  },
  {
   "cell_type": "code",
   "execution_count": 3,
   "id": "0da9cb53",
   "metadata": {},
   "outputs": [],
   "source": [
    "gb_df = may_df.groupby('Cat_Self_Pred').agg({'Amount':'sum'})"
   ]
  },
  {
   "cell_type": "code",
   "execution_count": 24,
   "id": "249f28f2",
   "metadata": {},
   "outputs": [],
   "source": [
    "gb_df['Portion_of'] = 0.0\n",
    "gb_df.drop('Portion_of',axis=1, inplace=True)"
   ]
  },
  {
   "cell_type": "code",
   "execution_count": 18,
   "id": "f9aa67be",
   "metadata": {},
   "outputs": [
    {
     "data": {
      "text/plain": [
       "Cat_Self_Pred\n",
       "Dining Out                  0.0\n",
       "Entertainment               0.0\n",
       "Gas                         0.0\n",
       "Groceries                   0.0\n",
       "Gym                         0.0\n",
       "Medical                     0.0\n",
       "Misc                        0.0\n",
       "Phone                       0.0\n",
       "Tithe                       0.0\n",
       "Tolls/Uber/Metro/Parking    0.0\n",
       "USAA Insurance              0.0\n",
       "Utilities                   0.0\n",
       "Name: Portion_of, dtype: float64"
      ]
     },
     "execution_count": 18,
     "metadata": {},
     "output_type": "execute_result"
    }
   ],
   "source": [
    "gb_df.loc[gb_df['Amount'] < 0,'Portion_of']"
   ]
  },
  {
   "cell_type": "code",
   "execution_count": 29,
   "id": "676bd026",
   "metadata": {},
   "outputs": [
    {
     "data": {
      "text/plain": [
       "Cat_Self_Pred\n",
       "Dining Out                  20.419432\n",
       "Entertainment                0.206692\n",
       "Gas                          4.252719\n",
       "Groceries                   13.921266\n",
       "Gym                          0.909196\n",
       "Medical                      4.142125\n",
       "Misc                        26.392375\n",
       "Phone                        3.277249\n",
       "Tithe                       12.880765\n",
       "Tolls/Uber/Metro/Parking     0.246456\n",
       "USAA Insurance               6.877998\n",
       "Utilities                    6.473727\n",
       "Name: Amount, dtype: float64"
      ]
     },
     "execution_count": 29,
     "metadata": {},
     "output_type": "execute_result"
    }
   ],
   "source": [
    "gb_df[gb_df['Amount'] < 0].apply(lambda x: 100 * x / float(x.sum()))['Amount']"
   ]
  },
  {
   "cell_type": "code",
   "execution_count": 34,
   "id": "a2148b40",
   "metadata": {},
   "outputs": [],
   "source": [
    "gb_df.loc[gb_df['Amount'] < 0,'Portion_of'] = gb_df[gb_df['Amount'] < 0].apply(lambda x: 100 * x / float(x.sum()))['Amount']\n",
    "gb_df.loc[gb_df['Amount'] > 0,'Portion_of'] = gb_df[gb_df['Amount'] > 0].apply(lambda x: 100 * x / float(x.sum()))['Amount']"
   ]
  },
  {
   "cell_type": "code",
   "execution_count": 37,
   "id": "499e5c32",
   "metadata": {},
   "outputs": [],
   "source": [
    "gb_df['Portion_of'] = gb_df['Portion_of'].apply(lambda x: \"{0:.2f}%\".format(x))"
   ]
  },
  {
   "cell_type": "code",
   "execution_count": 40,
   "id": "0808f21e",
   "metadata": {},
   "outputs": [
    {
     "data": {
      "text/plain": [
       "1902.23"
      ]
     },
     "execution_count": 40,
     "metadata": {},
     "output_type": "execute_result"
    }
   ],
   "source": [
    "gb_df['Total'] = gb_df['Amount'].sum()"
   ]
  },
  {
   "cell_type": "code",
   "execution_count": 67,
   "id": "cb06a305",
   "metadata": {},
   "outputs": [],
   "source": [
    "ggg = gb_df.index.tolist()"
   ]
  },
  {
   "cell_type": "code",
   "execution_count": 69,
   "id": "158c53ee",
   "metadata": {},
   "outputs": [],
   "source": [
    "ggg.append('Total')"
   ]
  },
  {
   "cell_type": "code",
   "execution_count": 70,
   "id": "19b8e779",
   "metadata": {},
   "outputs": [
    {
     "data": {
      "text/plain": [
       "['Dining Out',\n",
       " 'Entertainment',\n",
       " 'Extra',\n",
       " 'Gas',\n",
       " 'Groceries',\n",
       " 'Gym',\n",
       " 'Medical',\n",
       " 'Misc',\n",
       " 'Pay Check',\n",
       " 'Phone',\n",
       " 'Tithe',\n",
       " 'Tolls/Uber/Metro/Parking',\n",
       " 'USAA Insurance',\n",
       " 'Utilities',\n",
       " 'Venmo Extra',\n",
       " 'Total']"
      ]
     },
     "execution_count": 70,
     "metadata": {},
     "output_type": "execute_result"
    }
   ],
   "source": [
    "ggg"
   ]
  },
  {
   "cell_type": "code",
   "execution_count": 57,
   "id": "004ca117",
   "metadata": {},
   "outputs": [
    {
     "data": {
      "text/plain": [
       "Index(['Dining Out', 'Entertainment', 'Extra', 'Gas', 'Groceries', 'Gym', 'Medical', 'Misc', 'Pay Check', 'Phone', 'Tithe', 'Tolls/Uber/Metro/Parking', 'USAA Insurance', 'Utilities', 'Venmo Extra'], dtype='object', name='Cat_Self_Pred')"
      ]
     },
     "execution_count": 57,
     "metadata": {},
     "output_type": "execute_result"
    }
   ],
   "source": [
    "gb_df.index"
   ]
  },
  {
   "cell_type": "code",
   "execution_count": 52,
   "id": "8e48626b",
   "metadata": {},
   "outputs": [
    {
     "data": {
      "text/html": [
       "<div>\n",
       "<style scoped>\n",
       "    .dataframe tbody tr th:only-of-type {\n",
       "        vertical-align: middle;\n",
       "    }\n",
       "\n",
       "    .dataframe tbody tr th {\n",
       "        vertical-align: top;\n",
       "    }\n",
       "\n",
       "    .dataframe thead th {\n",
       "        text-align: right;\n",
       "    }\n",
       "</style>\n",
       "<table border=\"1\" class=\"dataframe\">\n",
       "  <thead>\n",
       "    <tr style=\"text-align: right;\">\n",
       "      <th></th>\n",
       "      <th>Amount</th>\n",
       "      <th>Portion_of</th>\n",
       "    </tr>\n",
       "  </thead>\n",
       "  <tbody>\n",
       "  </tbody>\n",
       "</table>\n",
       "</div>"
      ],
      "text/plain": [
       "Empty DataFrame\n",
       "Columns: [Amount, Portion_of]\n",
       "Index: []"
      ]
     },
     "execution_count": 52,
     "metadata": {},
     "output_type": "execute_result"
    }
   ],
   "source": [
    "pd.DataFrame({'Total':gb_df['Amount'].sum()}, columns=['Amount','Portion_of'])"
   ]
  },
  {
   "cell_type": "code",
   "execution_count": 73,
   "id": "07bfdecc",
   "metadata": {},
   "outputs": [],
   "source": [
    "import numpy as np"
   ]
  },
  {
   "cell_type": "code",
   "execution_count": 75,
   "id": "ea0ea390",
   "metadata": {},
   "outputs": [
    {
     "data": {
      "text/html": [
       "<div>\n",
       "<style scoped>\n",
       "    .dataframe tbody tr th:only-of-type {\n",
       "        vertical-align: middle;\n",
       "    }\n",
       "\n",
       "    .dataframe tbody tr th {\n",
       "        vertical-align: top;\n",
       "    }\n",
       "\n",
       "    .dataframe thead th {\n",
       "        text-align: right;\n",
       "    }\n",
       "</style>\n",
       "<table border=\"1\" class=\"dataframe\">\n",
       "  <thead>\n",
       "    <tr style=\"text-align: right;\">\n",
       "      <th></th>\n",
       "      <th>Amount</th>\n",
       "      <th>Portion_of</th>\n",
       "    </tr>\n",
       "    <tr>\n",
       "      <th>Cat_Self_Pred</th>\n",
       "      <th></th>\n",
       "      <th></th>\n",
       "    </tr>\n",
       "  </thead>\n",
       "  <tbody>\n",
       "    <tr>\n",
       "      <th>Dining Out</th>\n",
       "      <td>-492.97</td>\n",
       "      <td>20.42%</td>\n",
       "    </tr>\n",
       "    <tr>\n",
       "      <th>Entertainment</th>\n",
       "      <td>-4.99</td>\n",
       "      <td>0.21%</td>\n",
       "    </tr>\n",
       "    <tr>\n",
       "      <th>Extra</th>\n",
       "      <td>177.32</td>\n",
       "      <td>4.11%</td>\n",
       "    </tr>\n",
       "    <tr>\n",
       "      <th>Gas</th>\n",
       "      <td>-102.67</td>\n",
       "      <td>4.25%</td>\n",
       "    </tr>\n",
       "    <tr>\n",
       "      <th>Groceries</th>\n",
       "      <td>-336.09</td>\n",
       "      <td>13.92%</td>\n",
       "    </tr>\n",
       "    <tr>\n",
       "      <th>Gym</th>\n",
       "      <td>-21.95</td>\n",
       "      <td>0.91%</td>\n",
       "    </tr>\n",
       "    <tr>\n",
       "      <th>Medical</th>\n",
       "      <td>-100.00</td>\n",
       "      <td>4.14%</td>\n",
       "    </tr>\n",
       "    <tr>\n",
       "      <th>Misc</th>\n",
       "      <td>-637.17</td>\n",
       "      <td>26.39%</td>\n",
       "    </tr>\n",
       "    <tr>\n",
       "      <th>Pay Check</th>\n",
       "      <td>4037.43</td>\n",
       "      <td>93.54%</td>\n",
       "    </tr>\n",
       "    <tr>\n",
       "      <th>Phone</th>\n",
       "      <td>-79.12</td>\n",
       "      <td>3.28%</td>\n",
       "    </tr>\n",
       "    <tr>\n",
       "      <th>Tithe</th>\n",
       "      <td>-310.97</td>\n",
       "      <td>12.88%</td>\n",
       "    </tr>\n",
       "    <tr>\n",
       "      <th>Tolls/Uber/Metro/Parking</th>\n",
       "      <td>-5.95</td>\n",
       "      <td>0.25%</td>\n",
       "    </tr>\n",
       "    <tr>\n",
       "      <th>USAA Insurance</th>\n",
       "      <td>-166.05</td>\n",
       "      <td>6.88%</td>\n",
       "    </tr>\n",
       "    <tr>\n",
       "      <th>Utilities</th>\n",
       "      <td>-156.29</td>\n",
       "      <td>6.47%</td>\n",
       "    </tr>\n",
       "    <tr>\n",
       "      <th>Venmo Extra</th>\n",
       "      <td>101.70</td>\n",
       "      <td>2.36%</td>\n",
       "    </tr>\n",
       "  </tbody>\n",
       "</table>\n",
       "</div>"
      ],
      "text/plain": [
       "                           Amount Portion_of\n",
       "Cat_Self_Pred                               \n",
       "Dining Out                -492.97     20.42%\n",
       "Entertainment               -4.99      0.21%\n",
       "Extra                      177.32      4.11%\n",
       "Gas                       -102.67      4.25%\n",
       "Groceries                 -336.09     13.92%\n",
       "Gym                        -21.95      0.91%\n",
       "Medical                   -100.00      4.14%\n",
       "Misc                      -637.17     26.39%\n",
       "Pay Check                 4037.43     93.54%\n",
       "Phone                      -79.12      3.28%\n",
       "Tithe                     -310.97     12.88%\n",
       "Tolls/Uber/Metro/Parking    -5.95      0.25%\n",
       "USAA Insurance            -166.05      6.88%\n",
       "Utilities                 -156.29      6.47%\n",
       "Venmo Extra                101.70      2.36%"
      ]
     },
     "execution_count": 75,
     "metadata": {},
     "output_type": "execute_result"
    }
   ],
   "source": [
    "gb_df"
   ]
  },
  {
   "cell_type": "code",
   "execution_count": 77,
   "id": "06e057c7",
   "metadata": {},
   "outputs": [],
   "source": [
    "gb_df_test = gb_df.append({'Amount':gb_df['Amount'].sum()}, ignore_index=True)"
   ]
  },
  {
   "cell_type": "code",
   "execution_count": 78,
   "id": "1357b183",
   "metadata": {},
   "outputs": [
    {
     "ename": "KeyError",
     "evalue": "\"None of ['Dining Out', 'Entertainment', 'Extra', 'Gas', 'Groceries', 'Gym', 'Medical', 'Misc', 'Pay Check', 'Phone', 'Tithe', 'Tolls/Uber/Metro/Parking', 'USAA Insurance', 'Utilities', 'Venmo Extra', 'Total'] are in the columns\"",
     "output_type": "error",
     "traceback": [
      "\u001b[0;31m---------------------------------------------------------------------------\u001b[0m",
      "\u001b[0;31mKeyError\u001b[0m                                  Traceback (most recent call last)",
      "\u001b[0;32m<ipython-input-78-11d10ba3de24>\u001b[0m in \u001b[0;36m<module>\u001b[0;34m\u001b[0m\n\u001b[0;32m----> 1\u001b[0;31m \u001b[0mgb_df_test\u001b[0m\u001b[0;34m.\u001b[0m\u001b[0mset_index\u001b[0m\u001b[0;34m(\u001b[0m\u001b[0mggg\u001b[0m\u001b[0;34m)\u001b[0m\u001b[0;34m\u001b[0m\u001b[0;34m\u001b[0m\u001b[0m\n\u001b[0m",
      "\u001b[0;32m~/opt/anaconda3/lib/python3.8/site-packages/pandas/core/frame.py\u001b[0m in \u001b[0;36mset_index\u001b[0;34m(self, keys, drop, append, inplace, verify_integrity)\u001b[0m\n\u001b[1;32m   4725\u001b[0m \u001b[0;34m\u001b[0m\u001b[0m\n\u001b[1;32m   4726\u001b[0m         \u001b[0;32mif\u001b[0m \u001b[0mmissing\u001b[0m\u001b[0;34m:\u001b[0m\u001b[0;34m\u001b[0m\u001b[0;34m\u001b[0m\u001b[0m\n\u001b[0;32m-> 4727\u001b[0;31m             \u001b[0;32mraise\u001b[0m \u001b[0mKeyError\u001b[0m\u001b[0;34m(\u001b[0m\u001b[0;34mf\"None of {missing} are in the columns\"\u001b[0m\u001b[0;34m)\u001b[0m\u001b[0;34m\u001b[0m\u001b[0;34m\u001b[0m\u001b[0m\n\u001b[0m\u001b[1;32m   4728\u001b[0m \u001b[0;34m\u001b[0m\u001b[0m\n\u001b[1;32m   4729\u001b[0m         \u001b[0;32mif\u001b[0m \u001b[0minplace\u001b[0m\u001b[0;34m:\u001b[0m\u001b[0;34m\u001b[0m\u001b[0;34m\u001b[0m\u001b[0m\n",
      "\u001b[0;31mKeyError\u001b[0m: \"None of ['Dining Out', 'Entertainment', 'Extra', 'Gas', 'Groceries', 'Gym', 'Medical', 'Misc', 'Pay Check', 'Phone', 'Tithe', 'Tolls/Uber/Metro/Parking', 'USAA Insurance', 'Utilities', 'Venmo Extra', 'Total'] are in the columns\""
     ]
    }
   ],
   "source": [
    "gb_df_test.set_index(ggg)"
   ]
  },
  {
   "cell_type": "code",
   "execution_count": null,
   "id": "e59f1b22",
   "metadata": {},
   "outputs": [],
   "source": []
  }
 ],
 "metadata": {
  "kernelspec": {
   "display_name": "Python 3",
   "language": "python",
   "name": "python3"
  },
  "language_info": {
   "codemirror_mode": {
    "name": "ipython",
    "version": 3
   },
   "file_extension": ".py",
   "mimetype": "text/x-python",
   "name": "python",
   "nbconvert_exporter": "python",
   "pygments_lexer": "ipython3",
   "version": "3.8.8"
  }
 },
 "nbformat": 4,
 "nbformat_minor": 5
}
